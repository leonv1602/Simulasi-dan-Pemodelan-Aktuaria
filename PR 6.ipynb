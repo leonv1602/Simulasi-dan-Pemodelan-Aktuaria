{
 "cells": [
  {
   "cell_type": "markdown",
   "id": "sacred-analyst",
   "metadata": {},
   "source": [
    "# Soal nomor 30 \n",
    "1. Write a program that uses the thinning algorithm to generate the first 10 time units of a nonhomogeneous Poisson process with intensity function   \n",
    "$$\n",
    "\\lambda (t) = 3 +\\frac{4}{t+1}\n",
    "$$  \n",
    "2. Give a way to improve upon the thinning algorithm for this example  "
   ]
  },
  {
   "cell_type": "markdown",
   "id": "engaged-indiana",
   "metadata": {},
   "source": [
    "# Jawab \n",
    "\n",
    "Step 1: $t = 0$, $I = 0$.  \n",
    "step 2: Generate a random number $U$.  \n",
    "step 3: $t = t − \\frac{1}{\\lambda} \\log U$. If $t > T$ , stop.  \n",
    "step 4: Generate a random number $U$.  \n",
    "step 5: If $U \\leq \\frac{\\lambda(t)}{\\lambda}$, set $I = I + 1$, $S(I) = t$.  \n",
    "step 6: Go to Step 2.  \n",
    "  \n",
    "$$\n",
    "\\lambda(t) \\leq \\lambda \\quad \\forall t \\leq T\n",
    "$$\n",
    "Perhatikan bahwa $T = 0$ maka dapat dipilih $\\lambda \\geq 7$ \n",
    "\n",
    "Variabel :\n",
    "- $T$ : banyaknya kejadian  \n",
    "- $S(i)$ : nilai pada saat $i$ dengan $i = 1,\\dots,I$ "
   ]
  },
  {
   "cell_type": "markdown",
   "id": "communist-strand",
   "metadata": {},
   "source": [
    "Jika dipandang proses ini berdistribusi Poisson dengan $\\lambda(t)$ dan maka dapat diapproksimasi total rataannya $\\leq 39.5$"
   ]
  },
  {
   "cell_type": "code",
   "execution_count": 1,
   "id": "facial-wilson",
   "metadata": {},
   "outputs": [],
   "source": [
    "import numpy as np\n",
    "import random\n",
    "import seaborn as sns\n",
    "import matplotlib.pyplot as plt"
   ]
  },
  {
   "cell_type": "code",
   "execution_count": 2,
   "id": "architectural-karaoke",
   "metadata": {},
   "outputs": [],
   "source": [
    "def poisson(T = 10, lambda_ =7, sim = 10000):\n",
    "    hist = []\n",
    "    for i in range(sim):\n",
    "        t = 0 \n",
    "        I = 0\n",
    "        S = [0]\n",
    "        count = 0\n",
    "        lambda_t = lambda t:3+4/(t+1)\n",
    "        while t<=T:\n",
    "            t = t - 1/lambda_ *np.log(np.random.rand())\n",
    "            if np.random.rand()<= lambda_t(t)/lambda_:\n",
    "                I += 1\n",
    "                S.append(t)\n",
    "                count += 1\n",
    "                hist.append(t)\n",
    "    plt.hist(hist,density=True,bins = 30)\n",
    "    sns.kdeplot(hist)\n",
    "    plt.grid()\n",
    "    plt.title(f'Distribusi dari nilai yang dihasilkan dengan simulasi sebanyak {sim}')\n",
    "    plt.show()\n",
    "    return print(f'Rataan dari banyaknya percobaan adalah {np.mean(hist)} dan variansinya adalah {np.var(hist)}')"
   ]
  },
  {
   "cell_type": "code",
   "execution_count": 3,
   "id": "southwest-corruption",
   "metadata": {},
   "outputs": [
    {
     "data": {
      "image/png": "[encoded data removed]",
      "text/plain": [
       "<Figure size 432x288 with 1 Axes>"
      ]
     },
     "metadata": {
      "needs_background": "light"
     },
     "output_type": "display_data"
    },
    {
     "name": "stdout",
     "output_type": "stream",
     "text": [
      "Rataan dari banyaknya percobaan adalah 4.621588443824721 dan variansinya adalah 9.044887597037462\n"
     ]
    }
   ],
   "source": [
    "a = poisson(sim = 10000)"
   ]
  },
  {
   "cell_type": "code",
   "execution_count": 4,
   "id": "impaired-diesel",
   "metadata": {},
   "outputs": [
    {
     "data": {
      "image/png": "[encoded data removed]",
      "text/plain": [
       "<Figure size 432x288 with 1 Axes>"
      ]
     },
     "metadata": {
      "needs_background": "light"
     },
     "output_type": "display_data"
    }
   ],
   "source": [
    "h = np.random.poisson(39,10000)\n",
    "plt.hist(h,density=True,bins=30)\n",
    "plt.show()"
   ]
  },
  {
   "cell_type": "code",
   "execution_count": 5,
   "id": "imported-midnight",
   "metadata": {},
   "outputs": [],
   "source": [
    "def poisson_2(T = 10, lambda_ = 37/11, sim = 10000):\n",
    "    hist = []\n",
    "    for i in range(sim):\n",
    "        t = 0 \n",
    "        I = 0\n",
    "        S = [0]\n",
    "        count = 0\n",
    "        lambda_t = lambda t:3+4/(t+1)\n",
    "        while t<=T:\n",
    "            t = t - 1/lambda_ *np.log(np.random.rand())\n",
    "            if np.random.rand()<= lambda_t(t)/lambda_:\n",
    "                I += 1\n",
    "                S.append(t)\n",
    "                count += 1\n",
    "        hist.append(count)\n",
    "    plt.hist(hist,density=True,bins = 30)\n",
    "    sns.kdeplot(hist)\n",
    "    plt.grid()\n",
    "    plt.title(f'Distribusi dari banyak Percobaan yang dilakukan dengan simulasi sebanyak {sim}')\n",
    "    plt.show()\n",
    "    return print(f'Rataan dari banyaknya percobaan adalah {np.mean(hist)} dan variansinya adalah {np.var(hist)}')"
   ]
  }
 ],
 "metadata": {
  "kernelspec": {
   "display_name": "Python 3",
   "language": "python",
   "name": "python3"
  },
  "language_info": {
   "codemirror_mode": {
    "name": "ipython",
    "version": 3
   },
   "file_extension": ".py",
   "mimetype": "text/x-python",
   "name": "python",
   "nbconvert_exporter": "python",
   "pygments_lexer": "ipython3",
   "version": "3.8.5"
  }
 },
 "nbformat": 4,
 "nbformat_minor": 5
}
