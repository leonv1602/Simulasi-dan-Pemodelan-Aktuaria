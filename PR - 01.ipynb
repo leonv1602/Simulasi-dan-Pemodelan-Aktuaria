{
 "cells": [
  {
   "cell_type": "markdown",
   "id": "pressing-management",
   "metadata": {},
   "source": [
    "# NOMOR 12 \n",
    "For uniform $(0, 1)$ random variables $U_1,U_2,\\dots$ define\n",
    "$$\n",
    "N = \\text{Minimum} \\left\\{n:\\sum_{i=1}^n U_i >1 \\right\\}\n",
    "$$\n",
    "\t\n",
    "That is, $N$ is equal to the number of random numbers that must be summed to exceed 1.  \n",
    "(a) Estimate $E[N]$ by generating 100 values of $N$.  \n",
    "(b) Estimate $E[N]$ by generating 1000 values of $N$.  \n",
    "(c)  Estimate $E[N]$ by generating 10000 values of $N$.  \n",
    "(d)   What do you think is the value of $E[N]$?  "
   ]
  },
  {
   "cell_type": "markdown",
   "id": "certified-belief",
   "metadata": {},
   "source": [
    "# Jawaban\n",
    "Pertama akan dibuat sebuah Array kosong yang akan diisi dengan nilai dari N yang memenuhi persayaratan tersebut kemudian akan di jumlahkan kemudian di bagi dengan banyaknya N yang ada."
   ]
  },
  {
   "cell_type": "code",
   "execution_count": 1,
   "id": "secret-agriculture",
   "metadata": {},
   "outputs": [],
   "source": [
    "# Beberapa Packages Penting\n",
    "import numpy as np # Membuat Array\n",
    "import random # Mengeluarkan nilai random\n",
    "import matplotlib.pyplot as plt # Membuat visualisasi"
   ]
  },
  {
   "cell_type": "code",
   "execution_count": 2,
   "id": "expensive-minister",
   "metadata": {},
   "outputs": [],
   "source": [
    "# Pendefinisian Fungsi \n",
    "def nomor_12(n = 100):\n",
    "    N = np.zeros(shape = n) # Array kosong\n",
    "    for i in range(n): # Loop untuk mengisi array N\n",
    "        j = 1 # inisiasi nilai pertama \n",
    "        u = np.array(np.random.uniform(size = 1)) #Peubah acak pertama\n",
    "        while sum(u) <=1: # Kondisi sigma U_i > 1\n",
    "            j +=1 # Menghitung jumlah N\n",
    "            u = np.append(u,np.random.uniform(size = 1)) # Peubah ajak ke-j\n",
    "        N[i] = j # Mengisi Array N dengan nilai j\n",
    "    plt.grid(linestyle='-', linewidth=1)\n",
    "    plt.hist(N,bins = 4) # Membuat grafik histogram\n",
    "    plt.title('Grafik Distribusi N')\n",
    "    plt.xlabel('Banyak N')\n",
    "    plt.ylabel('Frekuensi')\n",
    "    return print('Ekspektasi dari N dengan N =',n, 'adalah',  \"{:.4f}\".format(sum(N)/n)), plt.show()"
   ]
  },
  {
   "cell_type": "markdown",
   "id": "martial-fluid",
   "metadata": {},
   "source": [
    "## Jawaban A"
   ]
  },
  {
   "cell_type": "code",
   "execution_count": 3,
   "id": "amended-working",
   "metadata": {},
   "outputs": [
    {
     "name": "stdout",
     "output_type": "stream",
     "text": [
      "Ekspektasi dari N dengan N = 100 adalah 2.7600\n"
     ]
    },
    {
     "data": {
      "image/png": "[encoded data removed]",
      "text/plain": [
       "<Figure size 432x288 with 1 Axes>"
      ]
     },
     "metadata": {
      "needs_background": "light"
     },
     "output_type": "display_data"
    },
    {
     "data": {
      "text/plain": [
       "(None, None)"
      ]
     },
     "execution_count": 3,
     "metadata": {},
     "output_type": "execute_result"
    }
   ],
   "source": [
    "nomor_12(100)"
   ]
  },
  {
   "cell_type": "markdown",
   "id": "apparent-headquarters",
   "metadata": {},
   "source": [
    "## Jawaban B"
   ]
  },
  {
   "cell_type": "code",
   "execution_count": 4,
   "id": "loved-effort",
   "metadata": {},
   "outputs": [
    {
     "name": "stdout",
     "output_type": "stream",
     "text": [
      "Ekspektasi dari N dengan N = 1000 adalah 2.7190\n"
     ]
    },
    {
     "data": {
      "image/png": "[encoded data removed]",
      "text/plain": [
       "<Figure size 432x288 with 1 Axes>"
      ]
     },
     "metadata": {
      "needs_background": "light"
     },
     "output_type": "display_data"
    },
    {
     "data": {
      "text/plain": [
       "(None, None)"
      ]
     },
     "execution_count": 4,
     "metadata": {},
     "output_type": "execute_result"
    }
   ],
   "source": [
    "nomor_12(1000)"
   ]
  },
  {
   "cell_type": "markdown",
   "id": "expanded-writer",
   "metadata": {},
   "source": [
    "## Jawaban C"
   ]
  },
  {
   "cell_type": "code",
   "execution_count": 5,
   "id": "necessary-replication",
   "metadata": {},
   "outputs": [
    {
     "name": "stdout",
     "output_type": "stream",
     "text": [
      "Ekspektasi dari N dengan N = 10000 adalah 2.7215\n"
     ]
    },
    {
     "data": {
      "image/png": "[encoded data removed]",
      "text/plain": [
       "<Figure size 432x288 with 1 Axes>"
      ]
     },
     "metadata": {
      "needs_background": "light"
     },
     "output_type": "display_data"
    },
    {
     "data": {
      "text/plain": [
       "(None, None)"
      ]
     },
     "execution_count": 5,
     "metadata": {},
     "output_type": "execute_result"
    }
   ],
   "source": [
    "nomor_12(10000)"
   ]
  },
  {
   "cell_type": "markdown",
   "id": "logical-assignment",
   "metadata": {},
   "source": [
    "## Jawaban D\n",
    "$E[N] = 2.7$ karena semakin besar $N$ nya maka nilainya semakin dekat dengan nilai $E[N]$ sebenarnya"
   ]
  }
 ],
 "metadata": {
  "kernelspec": {
   "display_name": "Python 3",
   "language": "python",
   "name": "python3"
  },
  "language_info": {
   "codemirror_mode": {
    "name": "ipython",
    "version": 3
   },
   "file_extension": ".py",
   "mimetype": "text/x-python",
   "name": "python",
   "nbconvert_exporter": "python",
   "pygments_lexer": "ipython3",
   "version": "3.8.5"
  }
 },
 "nbformat": 4,
 "nbformat_minor": 5
}
