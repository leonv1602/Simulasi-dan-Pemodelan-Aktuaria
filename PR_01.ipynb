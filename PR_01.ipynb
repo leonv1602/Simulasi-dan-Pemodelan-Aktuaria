{
 "cells": [
  {
   "cell_type": "markdown",
   "id": "sitting-export",
   "metadata": {
    "slideshow": {
     "slide_type": "slide"
    }
   },
   "source": [
    "# NOMOR 12 \n",
    "For uniform $(0, 1)$ random variables $U_1,U_2,\\dots$ define\n",
    "$$\n",
    "N = \\text{Minimum} \\left\\{n:\\sum_{i=1}^n U_i >1 \\right\\}\n",
    "$$\n",
    "\t\n",
    "That is, $N$ is equal to the number of random numbers that must be summed to exceed 1.  \n",
    "(a) Estimate $E[N]$ by generating 100 values of $N$.  \n",
    "(b) Estimate $E[N]$ by generating 1000 values of $N$.  \n",
    "(c)  Estimate $E[N]$ by generating 10000 values of $N$.  \n",
    "(d)   What do you think is the value of $E[N]$?  "
   ]
  },
  {
   "cell_type": "markdown",
   "id": "unauthorized-houston",
   "metadata": {
    "slideshow": {
     "slide_type": "slide"
    }
   },
   "source": [
    "# Jawaban\n",
    "Pertama akan dibuat sebuah Array kosong yang akan diisi dengan nilai dari $N$ yang memenuhi syarat tersebut kemudian akan di jumlahkan kemudian di bagi dengan banyaknya $N$ yang ada.\n",
    "\n",
    "$$\n",
    "\\sum_{i=1}^{n} \\frac{N_i}{n} \\approx E[N]\n",
    "$$"
   ]
  },
  {
   "cell_type": "code",
   "execution_count": 1,
   "id": "requested-liability",
   "metadata": {
    "slideshow": {
     "slide_type": "slide"
    }
   },
   "outputs": [],
   "source": [
    "# Beberapa Packages Penting\n",
    "import numpy as np # Membuat Array\n",
    "import random # Mengeluarkan nilai random\n",
    "import matplotlib.pyplot as plt # Membuat visualisasi"
   ]
  },
  {
   "cell_type": "code",
   "execution_count": 2,
   "id": "going-parallel",
   "metadata": {
    "slideshow": {
     "slide_type": "slide"
    }
   },
   "outputs": [],
   "source": [
    "# Pendefinisian Fungsi \n",
    "def nomor_12(n):\n",
    "    N = np.zeros(shape = n) # Array kosong\n",
    "    for i in range(n): # Loop untuk mengisi array N\n",
    "        j = 1 # inisiasi nilai pertama \n",
    "        u = np.array(np.random.uniform(size = 1)) #Peubah acak pertama\n",
    "        while sum(u) <=1: # Kondisi sigma U_i > 1\n",
    "            j +=1 # Menghitung jumlah N\n",
    "            u = np.append(u,np.random.uniform(size = 1)) # Peubah ajak ke-j\n",
    "        N[i] = j # Mengisi Array N dengan nilai j\n",
    "    x,y = np.unique(N, return_counts = True)\n",
    "    plt.grid(linestyle='-', linewidth=1)\n",
    "    plt.bar(x,y) # Membuat grafik batang\n",
    "    plt.title('Grafik Distribusi N')\n",
    "    plt.xlabel('Banyak N')\n",
    "    plt.ylabel('Frekuensi')\n",
    "    return print('Ekspektasi dari N dengan N =',n, 'adalah',  \"{:.4f}\".format(np.mean(N))), plt.show()"
   ]
  },
  {
   "cell_type": "markdown",
   "id": "under-definition",
   "metadata": {
    "slideshow": {
     "slide_type": "notes"
    }
   },
   "source": [
    "Alasan pakai np.random.uniform bukan rand karna kalau rand itu $[0,1)$"
   ]
  },
  {
   "cell_type": "markdown",
   "id": "prospective-firewall",
   "metadata": {
    "slideshow": {
     "slide_type": "slide"
    }
   },
   "source": [
    "## Jawaban A"
   ]
  },
  {
   "cell_type": "code",
   "execution_count": 3,
   "id": "applicable-tobago",
   "metadata": {
    "slideshow": {
     "slide_type": "subslide"
    }
   },
   "outputs": [
    {
     "name": "stdout",
     "output_type": "stream",
     "text": [
      "Ekspektasi dari N dengan N = 100 adalah 2.7500\n"
     ]
    },
    {
     "data": {
      "image/png": "[encoded data removed]",
      "text/plain": [
       "<Figure size 432x288 with 1 Axes>"
      ]
     },
     "metadata": {
      "needs_background": "light"
     },
     "output_type": "display_data"
    },
    {
     "data": {
      "text/plain": [
       "(None, None)"
      ]
     },
     "execution_count": 3,
     "metadata": {},
     "output_type": "execute_result"
    }
   ],
   "source": [
    "nomor_12(100)"
   ]
  },
  {
   "cell_type": "markdown",
   "id": "approximate-weekend",
   "metadata": {
    "slideshow": {
     "slide_type": "slide"
    }
   },
   "source": [
    "## Jawaban B"
   ]
  },
  {
   "cell_type": "code",
   "execution_count": 4,
   "id": "italic-pioneer",
   "metadata": {
    "slideshow": {
     "slide_type": "subslide"
    }
   },
   "outputs": [
    {
     "name": "stdout",
     "output_type": "stream",
     "text": [
      "Ekspektasi dari N dengan N = 1000 adalah 2.7200\n"
     ]
    },
    {
     "data": {
      "image/png": "[encoded data removed]",
      "text/plain": [
       "<Figure size 432x288 with 1 Axes>"
      ]
     },
     "metadata": {
      "needs_background": "light"
     },
     "output_type": "display_data"
    },
    {
     "data": {
      "text/plain": [
       "(None, None)"
      ]
     },
     "execution_count": 4,
     "metadata": {},
     "output_type": "execute_result"
    }
   ],
   "source": [
    "nomor_12(1000)"
   ]
  },
  {
   "cell_type": "markdown",
   "id": "authorized-rover",
   "metadata": {
    "slideshow": {
     "slide_type": "slide"
    }
   },
   "source": [
    "## Jawaban C"
   ]
  },
  {
   "cell_type": "code",
   "execution_count": 5,
   "id": "thorough-boxing",
   "metadata": {
    "slideshow": {
     "slide_type": "subslide"
    }
   },
   "outputs": [
    {
     "name": "stdout",
     "output_type": "stream",
     "text": [
      "Ekspektasi dari N dengan N = 10000 adalah 2.7157\n"
     ]
    },
    {
     "data": {
      "image/png": "[encoded data removed]",
      "text/plain": [
       "<Figure size 432x288 with 1 Axes>"
      ]
     },
     "metadata": {
      "needs_background": "light"
     },
     "output_type": "display_data"
    },
    {
     "data": {
      "text/plain": [
       "(None, None)"
      ]
     },
     "execution_count": 5,
     "metadata": {},
     "output_type": "execute_result"
    }
   ],
   "source": [
    "nomor_12(10000)"
   ]
  },
  {
   "cell_type": "markdown",
   "id": "fixed-stereo",
   "metadata": {
    "slideshow": {
     "slide_type": "slide"
    }
   },
   "source": [
    "## Jawaban D\n",
    "$E[N] = e$ karena semakin besar $N$ nya maka nilainya semakin dekat dengan nilai $E[N]$ sebenarnya.\n",
    "$E[N]$ akan mendekati $e$ dapat dilihat dari distribusi dari $N$ dan dapat juga dilihat bahwa \n",
    "$$\n",
    "e \\approx \\sum_{i=0}^n \\left(1+\\frac{1}{n}\\right)^n \n",
    "$$\n",
    "Dari persamaan diatas, dapat dilihat bahwa $\\sum_{i=0}^n \\left(1+\\frac{1}{n}\\right)^n$ dapat mengaproksimasi nilai $e$. Dapat dilihat semakin banyak nilai $n$ maka semakin dekat aproksimasi nilai $e$. Perhatikan bahwa nilai $N$ bergantung dari banyak peubah acak $U$ minimum yang diperlukan untuk memenuhi persamaan $\\sum_{i=1}^n U_i >1$. Sehingga rataan/ Ekspektasi dari $N$ akan mempengaruhi seberapa tepat nilai $e$"
   ]
  },
  {
   "cell_type": "code",
   "execution_count": 6,
   "id": "marked-albany",
   "metadata": {},
   "outputs": [
    {
     "name": "stdout",
     "output_type": "stream",
     "text": [
      "Ekspektasi dari N dengan N = 100000 adalah 2.7190\n"
     ]
    },
    {
     "data": {
      "image/png": "[encoded data removed]",
      "text/plain": [
       "<Figure size 432x288 with 1 Axes>"
      ]
     },
     "metadata": {
      "needs_background": "light"
     },
     "output_type": "display_data"
    },
    {
     "data": {
      "text/plain": [
       "(None, None)"
      ]
     },
     "execution_count": 6,
     "metadata": {},
     "output_type": "execute_result"
    }
   ],
   "source": [
    "nomor_12(100000) #100 ribu iterasi"
   ]
  }
 ],
 "metadata": {
  "celltoolbar": "Slideshow",
  "kernelspec": {
   "display_name": "Python 3",
   "language": "python",
   "name": "python3"
  },
  "language_info": {
   "codemirror_mode": {
    "name": "ipython",
    "version": 3
   },
   "file_extension": ".py",
   "mimetype": "text/x-python",
   "name": "python",
   "nbconvert_exporter": "python",
   "pygments_lexer": "ipython3",
   "version": "3.8.5"
  }
 },
 "nbformat": 4,
 "nbformat_minor": 5
}
