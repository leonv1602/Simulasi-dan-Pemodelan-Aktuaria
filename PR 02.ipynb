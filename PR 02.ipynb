{
 "cells": [
  {
   "cell_type": "markdown",
   "id": "chief-pavilion",
   "metadata": {},
   "source": [
    "# Nomor 2 Halaman 64 \n",
    "\n",
    "Write a computer program that, when given a probability mass function $\\left\\{p_j, j = 1,\\dots, n\\right\\}$ as an input, gives as an output the value of a random variable having this mass function."
   ]
  },
  {
   "cell_type": "code",
   "execution_count": 1,
   "id": "parental-packet",
   "metadata": {},
   "outputs": [],
   "source": [
    "import numpy as np\n",
    "import matplotlib.pyplot as plt\n",
    "import random\n",
    "import pandas as pd"
   ]
  },
  {
   "cell_type": "code",
   "execution_count": 2,
   "id": "unique-identification",
   "metadata": {},
   "outputs": [],
   "source": [
    "def random_v1(n):\n",
    "    array = np.zeros(n)\n",
    "    p = 0\n",
    "    i = 0\n",
    "    while i != n and sum(array)< 1.0:\n",
    "        print('Masukkan nilai fungsi massa peluang ke - ', str(i+1))\n",
    "        p = float(input())\n",
    "        \n",
    "        while p < 0.0 or p > 1.0:\n",
    "            print('Input Salah ! Peluang harus berada di interval (0,1)')\n",
    "            print('Masukkan nilai fungsi massa peluang ke - ', str(i+1))\n",
    "            p = float(input())\n",
    "          \n",
    "        while sum(array)+p >1.0:\n",
    "            print('Input Salah ! Rekomendasi nilai p yang dimasukkan <=', \"{:.4f}\".format(1-sum(array)))\n",
    "            print('Masukkan nilai fungsi massa peluang ke - ', str(i+1))\n",
    "            p = float(input())\n",
    "        array[i] = p\n",
    "        i += 1 \n",
    "        \n",
    "    if sum(array) != 1.0:\n",
    "        while sum(array) != 1.0:\n",
    "            print('Input Salah ! Rekomendasi nilai p yang dimasukkan =', \"{:.4f}\".format(1-sum(array[:n-1])))\n",
    "            if i > n :\n",
    "                i = n\n",
    "            array[n-1] = 1-sum(array[:n-1])\n",
    "            print('Nilai fungsi massa peluang ke - ', str(i), array[n-1])\n",
    "    return array"
   ]
  },
  {
   "cell_type": "code",
   "execution_count": 3,
   "id": "funded-sailing",
   "metadata": {},
   "outputs": [],
   "source": [
    "def output_v1(n):\n",
    "    X = np.arange(n)\n",
    "    np.random.shuffle(X)\n",
    "    df = pd.DataFrame(data = {'Integer' : X, \n",
    "                              'Probability': np.cumsum(random_v1(n))\n",
    "        })\n",
    "    x = np.random.rand()\n",
    "    temp = True\n",
    "    i = 0\n",
    "    while temp == True:\n",
    "        if x < df['Probability'].iloc[i]:\n",
    "            temp = False            \n",
    "        elif i == n :\n",
    "            temp = False\n",
    "            return print('Tidak ada nilai yang benar')\n",
    "        else : \n",
    "            i+=1\n",
    "    return df, print('Nilai Random yang diperoleh adalah', \"{:.4f}\".format(x)), df['Integer'].iloc[i]"
   ]
  },
  {
   "cell_type": "code",
   "execution_count": 4,
   "id": "harmful-slide",
   "metadata": {},
   "outputs": [
    {
     "name": "stdout",
     "output_type": "stream",
     "text": [
      "Masukkan nilai fungsi massa peluang ke -  1\n",
      "0.2\n",
      "Masukkan nilai fungsi massa peluang ke -  2\n",
      "0.3\n",
      "Masukkan nilai fungsi massa peluang ke -  3\n",
      "0.4\n",
      "Masukkan nilai fungsi massa peluang ke -  4\n",
      "0.1\n",
      "Nilai Random yang diperoleh adalah 0.7310\n"
     ]
    },
    {
     "data": {
      "text/plain": [
       "(   Integer  Probability\n",
       " 0        2          0.2\n",
       " 1        3          0.5\n",
       " 2        1          0.9\n",
       " 3        4          1.0\n",
       " 4        0          1.0,\n",
       " None,\n",
       " 1)"
      ]
     },
     "execution_count": 4,
     "metadata": {},
     "output_type": "execute_result"
    }
   ],
   "source": [
    "output_v1(5)"
   ]
  },
  {
   "cell_type": "code",
   "execution_count": 5,
   "id": "grateful-emission",
   "metadata": {},
   "outputs": [],
   "source": [
    "def random_v2(n):\n",
    "    array = np.zeros(n)\n",
    "    p = 0\n",
    "    i = 0\n",
    "    while i != n and sum(array)< 1.0:\n",
    "        print('Masukkan nilai fungsi massa peluang ke - ', str(i+1))\n",
    "        p = float(input())\n",
    "        \n",
    "        while p <= 0.0 or p >= 1.0:\n",
    "            print('Input Salah ! Peluang harus berada di interval (0,1)')\n",
    "            print('Masukkan nilai fungsi massa peluang ke - ', str(i+1))\n",
    "            p = float(input())\n",
    "          \n",
    "        while sum(array)+p > 1.0:\n",
    "            print('Input Salah ! Rekomendasi nilai p yang dimasukkan <=', \"{:.4f}\".format(1-sum(array)))\n",
    "            print('Masukkan nilai fungsi massa peluang ke - ', str(i+1))\n",
    "            p = float(input())\n",
    "        array[i] = p\n",
    "        i += 1 \n",
    "        \n",
    "    if sum(array) != 1.0:\n",
    "        while sum(array) != 1.0:\n",
    "            print('Input Salah ! Rekomendasi nilai p yang dimasukkan =', \"{:.4f}\".format(1-sum(array[:n-1])))\n",
    "            if i > n :\n",
    "                i = n\n",
    "            array[n-1] = 1-sum(array[:n-1])\n",
    "            print('Nilai fungsi massa peluang ke - ', str(i), array[n-1])\n",
    "    return array"
   ]
  },
  {
   "cell_type": "code",
   "execution_count": 6,
   "id": "indie-petersburg",
   "metadata": {},
   "outputs": [],
   "source": [
    "def output_v2(n):\n",
    "    X = np.arange(n)\n",
    "    np.random.shuffle(X)\n",
    "    df = pd.DataFrame(data = {'Integer' : X, \n",
    "                              'Probability': np.cumsum(random_v2(n))\n",
    "        })\n",
    "    x = np.random.rand()\n",
    "    temp = True\n",
    "    i = 0\n",
    "    while temp == True:\n",
    "        if x < df['Probability'].iloc[i]:\n",
    "            temp = False            \n",
    "        elif i == n :\n",
    "            temp = False\n",
    "            return print('Tidak ada nilai yang benar')\n",
    "        else : \n",
    "            i+=1\n",
    "    return df, print('Nilai Random yang diperoleh adalah', \"{:.4f}\".format(x)), df['Integer'].iloc[i]"
   ]
  },
  {
   "cell_type": "code",
   "execution_count": 7,
   "id": "legal-popularity",
   "metadata": {},
   "outputs": [
    {
     "name": "stdout",
     "output_type": "stream",
     "text": [
      "Masukkan nilai fungsi massa peluang ke -  1\n",
      "0.2\n",
      "Masukkan nilai fungsi massa peluang ke -  2\n",
      "0.3\n",
      "Masukkan nilai fungsi massa peluang ke -  3\n",
      "0.5\n",
      "Nilai Random yang diperoleh adalah 0.2194\n"
     ]
    },
    {
     "data": {
      "text/plain": [
       "(   Integer  Probability\n",
       " 0        1          0.2\n",
       " 1        0          0.5\n",
       " 2        2          1.0,\n",
       " None,\n",
       " 0)"
      ]
     },
     "execution_count": 7,
     "metadata": {},
     "output_type": "execute_result"
    }
   ],
   "source": [
    "output_v2(3)"
   ]
  }
 ],
 "metadata": {
  "kernelspec": {
   "display_name": "Python 3",
   "language": "python",
   "name": "python3"
  },
  "language_info": {
   "codemirror_mode": {
    "name": "ipython",
    "version": 3
   },
   "file_extension": ".py",
   "mimetype": "text/x-python",
   "name": "python",
   "nbconvert_exporter": "python",
   "pygments_lexer": "ipython3",
   "version": "3.8.5"
  }
 },
 "nbformat": 4,
 "nbformat_minor": 5
}
