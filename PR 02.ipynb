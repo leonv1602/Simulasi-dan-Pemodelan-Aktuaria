{
 "cells": [
  {
   "cell_type": "markdown",
   "id": "floral-ghost",
   "metadata": {
    "slideshow": {
     "slide_type": "slide"
    }
   },
   "source": [
    "# Nomor 2 Halaman 64 \n",
    "\n",
    "Write a computer program that, when given a probability mass function $\\left\\{p_j, j = 1,\\dots, n\\right\\}$ as an input, gives as an output the value of a random variable having this mass function."
   ]
  },
  {
   "cell_type": "markdown",
   "id": "personalized-charter",
   "metadata": {
    "slideshow": {
     "slide_type": "slide"
    }
   },
   "source": [
    "# Solusi \n",
    "Akan dibuat 1 buah fungsi dengan asumsi dasar bahwa nilai $p$ harus positif dan ditambah asumsi yang berbeda untuk tiap fungsi.\n",
    "Jumlah nilai dari elemen yang ada di array = 1 "
   ]
  },
  {
   "cell_type": "code",
   "execution_count": 1,
   "id": "successful-arthritis",
   "metadata": {
    "slideshow": {
     "slide_type": "slide"
    }
   },
   "outputs": [],
   "source": [
    "import numpy as np\n",
    "import matplotlib.pyplot as plt\n",
    "import random\n",
    "import pandas as pd"
   ]
  },
  {
   "cell_type": "markdown",
   "id": "mechanical-observer",
   "metadata": {
    "slideshow": {
     "slide_type": "slide"
    }
   },
   "source": [
    "## Asumsi Pertama\n",
    "Nilai $p$ ada pada selang $[0,1]$"
   ]
  },
  {
   "cell_type": "code",
   "execution_count": 2,
   "id": "recognized-skating",
   "metadata": {
    "slideshow": {
     "slide_type": "subslide"
    }
   },
   "outputs": [],
   "source": [
    "def random_v1(n,rep = 10000):\n",
    "    \n",
    "    # Pembuatan Array\n",
    "    array = np.zeros(n)\n",
    "    p = 0\n",
    "    i = 0\n",
    "    while i+1 != n and sum(array) != 1.0:\n",
    "        print('Masukkan nilai fungsi massa peluang ke -', str(i+1))\n",
    "        p = float(input())\n",
    "        \n",
    "        while p < 0.0 or p > 1.0:\n",
    "            print('Input Salah ! Peluang harus berada di interval (0,1)')\n",
    "            print('Masukkan nilai fungsi massa peluang ke -', str(i+1))\n",
    "            p = float(input())\n",
    "          \n",
    "        while sum(array)+p >1.0:\n",
    "            print('Input Salah ! Rekomendasi nilai p yang dimasukkan <=', \"{:.4f}\".format(1-sum(array)))\n",
    "            print('Masukkan nilai fungsi massa peluang ke -', str(i+1))\n",
    "            p = float(input())\n",
    "        array[i] = p\n",
    "        i += 1 \n",
    "\n",
    "    array[i] = 1-sum(array)\n",
    "    print('Nilai fungsi massa peluang ke -', str(i), '\\n',array[i])\n",
    "\n",
    "    # Membuat bilangan 0 - 100\n",
    "    S = np.arange(100)\n",
    "    \n",
    "    # Memilih bilangan Acak\n",
    "    X = np.random.choice(S, size = n)\n",
    "    \n",
    "    # Mengacak urutan bilangan acak \n",
    "    np.random.shuffle(X)\n",
    "    \n",
    "    \n",
    "    df = pd.DataFrame(data = {'Integer' : X,\n",
    "                              'Probability' : array,\n",
    "                              'Cummulative Probability': np.cumsum(array)\n",
    "        })\n",
    "    df['Integer'] = df['Integer'].astype(str)\n",
    "    frekuensi = np.zeros(n)\n",
    "    for j in range(rep):\n",
    "        x = np.random.rand()\n",
    "        temp = True\n",
    "        i = 0\n",
    "        while temp == True:\n",
    "            if x < df['Cummulative Probability'].iloc[i]:\n",
    "                temp = False            \n",
    "            elif i == n :\n",
    "                temp = False\n",
    "                return print('Tidak ada nilai yang benar')\n",
    "            else : \n",
    "                i+=1\n",
    "        frekuensi[i] += 1 \n",
    "    df['Frekuensi'] = frekuensi\n",
    "    plt.bar(x=df['Integer'],height=df['Frekuensi'])\n",
    "    plt.grid()\n",
    "    plt.xlabel('Integer')\n",
    "    plt.ylabel('Frekuensi')\n",
    "    return display(df),plt.show()"
   ]
  },
  {
   "cell_type": "code",
   "execution_count": 3,
   "id": "large-transaction",
   "metadata": {
    "slideshow": {
     "slide_type": "subslide"
    }
   },
   "outputs": [
    {
     "name": "stdout",
     "output_type": "stream",
     "text": [
      "Masukkan nilai fungsi massa peluang ke - 1\n",
      "0.02\n",
      "Masukkan nilai fungsi massa peluang ke - 2\n",
      "0.5\n",
      "Masukkan nilai fungsi massa peluang ke - 3\n",
      "0.0\n",
      "Masukkan nilai fungsi massa peluang ke - 4\n",
      "0.1\n",
      "Nilai fungsi massa peluang ke - 4 \n",
      " 0.38\n"
     ]
    },
    {
     "data": {
      "text/html": [
       "<div>\n",
       "<style scoped>\n",
       "    .dataframe tbody tr th:only-of-type {\n",
       "        vertical-align: middle;\n",
       "    }\n",
       "\n",
       "    .dataframe tbody tr th {\n",
       "        vertical-align: top;\n",
       "    }\n",
       "\n",
       "    .dataframe thead th {\n",
       "        text-align: right;\n",
       "    }\n",
       "</style>\n",
       "<table border=\"1\" class=\"dataframe\">\n",
       "  <thead>\n",
       "    <tr style=\"text-align: right;\">\n",
       "      <th></th>\n",
       "      <th>Integer</th>\n",
       "      <th>Probability</th>\n",
       "      <th>Cummulative Probability</th>\n",
       "      <th>Frekuensi</th>\n",
       "    </tr>\n",
       "  </thead>\n",
       "  <tbody>\n",
       "    <tr>\n",
       "      <th>0</th>\n",
       "      <td>94</td>\n",
       "      <td>0.02</td>\n",
       "      <td>0.02</td>\n",
       "      <td>185.0</td>\n",
       "    </tr>\n",
       "    <tr>\n",
       "      <th>1</th>\n",
       "      <td>18</td>\n",
       "      <td>0.50</td>\n",
       "      <td>0.52</td>\n",
       "      <td>5061.0</td>\n",
       "    </tr>\n",
       "    <tr>\n",
       "      <th>2</th>\n",
       "      <td>39</td>\n",
       "      <td>0.00</td>\n",
       "      <td>0.52</td>\n",
       "      <td>0.0</td>\n",
       "    </tr>\n",
       "    <tr>\n",
       "      <th>3</th>\n",
       "      <td>94</td>\n",
       "      <td>0.10</td>\n",
       "      <td>0.62</td>\n",
       "      <td>951.0</td>\n",
       "    </tr>\n",
       "    <tr>\n",
       "      <th>4</th>\n",
       "      <td>79</td>\n",
       "      <td>0.38</td>\n",
       "      <td>1.00</td>\n",
       "      <td>3803.0</td>\n",
       "    </tr>\n",
       "  </tbody>\n",
       "</table>\n",
       "</div>"
      ],
      "text/plain": [
       "  Integer  Probability  Cummulative Probability  Frekuensi\n",
       "0      94         0.02                     0.02      185.0\n",
       "1      18         0.50                     0.52     5061.0\n",
       "2      39         0.00                     0.52        0.0\n",
       "3      94         0.10                     0.62      951.0\n",
       "4      79         0.38                     1.00     3803.0"
      ]
     },
     "metadata": {},
     "output_type": "display_data"
    },
    {
     "data": {
      "image/png": "[encoded data removed]",
      "text/plain": [
       "<Figure size 432x288 with 1 Axes>"
      ]
     },
     "metadata": {
      "needs_background": "light"
     },
     "output_type": "display_data"
    },
    {
     "data": {
      "text/plain": [
       "(None, None)"
      ]
     },
     "execution_count": 3,
     "metadata": {},
     "output_type": "execute_result"
    }
   ],
   "source": [
    "random_v1(5)"
   ]
  },
  {
   "cell_type": "markdown",
   "id": "timely-richmond",
   "metadata": {
    "slideshow": {
     "slide_type": "slide"
    }
   },
   "source": [
    "## Asumsi Kedua\n",
    "Nilai $p$ ada pada selang $(0,1)$"
   ]
  },
  {
   "cell_type": "code",
   "execution_count": 4,
   "id": "diverse-technician",
   "metadata": {
    "slideshow": {
     "slide_type": "subslide"
    }
   },
   "outputs": [],
   "source": [
    "def random_v2(n,start = 0,rep = 10000):\n",
    "    \n",
    "    # Pembuatan Array\n",
    "    array = np.zeros(n)\n",
    "    p = 0\n",
    "    i = 0\n",
    "    while i+1 != n and sum(array) != 1.0:\n",
    "        print('Masukkan nilai fungsi massa peluang ke -', str(i+1))\n",
    "        p = float(input())\n",
    "        \n",
    "        while p <= 0.0 or p >= 1.0:\n",
    "            print('Input Salah ! Peluang harus berada di interval (0,1)')\n",
    "            print('Masukkan nilai fungsi massa peluang ke -', str(i+1))\n",
    "            p = float(input())\n",
    "          \n",
    "        while sum(array)+p >1.0:\n",
    "            print('Input Salah ! Rekomendasi nilai p yang dimasukkan <=', \"{:.4f}\".format(1-sum(array)))\n",
    "            print('Masukkan nilai fungsi massa peluang ke -', str(i+1))\n",
    "            p = float(input())\n",
    "        array[i] = p\n",
    "        i += 1 \n",
    "\n",
    "    array[i] = 1-sum(array)\n",
    "    print('Nilai fungsi massa peluang ke -', str(i), '\\n',array[i])\n",
    "    \n",
    "    # Membuat bilangan 0 - 100\n",
    "    S = np.arange(100)\n",
    "    \n",
    "    # Memilih bilangan Acak\n",
    "    X = np.random.choice(S, size = n)\n",
    "    \n",
    "    # Mengacak urutan bilangan acak \n",
    "    np.random.shuffle(X)\n",
    "    \n",
    "    \n",
    "    df = pd.DataFrame(data = {'Integer' : X,\n",
    "                              'Probability' : array,\n",
    "                              'Cummulative Probability': np.cumsum(array)\n",
    "        })\n",
    "    df['Integer'] = df['Integer'].astype(str)\n",
    "    frekuensi = np.zeros(n)\n",
    "    for j in range(rep):\n",
    "        x = np.random.rand()\n",
    "        temp = True\n",
    "        i = 0\n",
    "        while temp == True:\n",
    "            if x < df['Cummulative Probability'].iloc[i]:\n",
    "                temp = False            \n",
    "            elif i == n :\n",
    "                temp = False\n",
    "                return print('Tidak ada nilai yang benar')\n",
    "            else : \n",
    "                i+=1\n",
    "        frekuensi[i] += 1 \n",
    "    df['Frekuensi'] = frekuensi\n",
    "    plt.bar(x=df['Integer'],height=df['Frekuensi'])\n",
    "    plt.grid()\n",
    "    plt.xlabel('Integer')\n",
    "    plt.ylabel('Frekuensi')\n",
    "    return display(df),plt.show()"
   ]
  },
  {
   "cell_type": "code",
   "execution_count": 5,
   "id": "annual-maine",
   "metadata": {
    "slideshow": {
     "slide_type": "subslide"
    }
   },
   "outputs": [
    {
     "name": "stdout",
     "output_type": "stream",
     "text": [
      "Masukkan nilai fungsi massa peluang ke - 1\n",
      "0.2\n",
      "Masukkan nilai fungsi massa peluang ke - 2\n",
      "0.5\n",
      "Masukkan nilai fungsi massa peluang ke - 3\n",
      "0.6\n",
      "Input Salah ! Rekomendasi nilai p yang dimasukkan <= 0.3000\n",
      "Masukkan nilai fungsi massa peluang ke - 3\n",
      "0.3\n",
      "Nilai fungsi massa peluang ke - 3 \n",
      " 0.0\n"
     ]
    },
    {
     "data": {
      "text/html": [
       "<div>\n",
       "<style scoped>\n",
       "    .dataframe tbody tr th:only-of-type {\n",
       "        vertical-align: middle;\n",
       "    }\n",
       "\n",
       "    .dataframe tbody tr th {\n",
       "        vertical-align: top;\n",
       "    }\n",
       "\n",
       "    .dataframe thead th {\n",
       "        text-align: right;\n",
       "    }\n",
       "</style>\n",
       "<table border=\"1\" class=\"dataframe\">\n",
       "  <thead>\n",
       "    <tr style=\"text-align: right;\">\n",
       "      <th></th>\n",
       "      <th>Integer</th>\n",
       "      <th>Probability</th>\n",
       "      <th>Cummulative Probability</th>\n",
       "      <th>Frekuensi</th>\n",
       "    </tr>\n",
       "  </thead>\n",
       "  <tbody>\n",
       "    <tr>\n",
       "      <th>0</th>\n",
       "      <td>84</td>\n",
       "      <td>0.2</td>\n",
       "      <td>0.2</td>\n",
       "      <td>1989.0</td>\n",
       "    </tr>\n",
       "    <tr>\n",
       "      <th>1</th>\n",
       "      <td>70</td>\n",
       "      <td>0.5</td>\n",
       "      <td>0.7</td>\n",
       "      <td>5018.0</td>\n",
       "    </tr>\n",
       "    <tr>\n",
       "      <th>2</th>\n",
       "      <td>44</td>\n",
       "      <td>0.3</td>\n",
       "      <td>1.0</td>\n",
       "      <td>2993.0</td>\n",
       "    </tr>\n",
       "    <tr>\n",
       "      <th>3</th>\n",
       "      <td>78</td>\n",
       "      <td>0.0</td>\n",
       "      <td>1.0</td>\n",
       "      <td>0.0</td>\n",
       "    </tr>\n",
       "  </tbody>\n",
       "</table>\n",
       "</div>"
      ],
      "text/plain": [
       "  Integer  Probability  Cummulative Probability  Frekuensi\n",
       "0      84          0.2                      0.2     1989.0\n",
       "1      70          0.5                      0.7     5018.0\n",
       "2      44          0.3                      1.0     2993.0\n",
       "3      78          0.0                      1.0        0.0"
      ]
     },
     "metadata": {},
     "output_type": "display_data"
    },
    {
     "data": {
      "image/png": "[encoded data removed]",
      "text/plain": [
       "<Figure size 432x288 with 1 Axes>"
      ]
     },
     "metadata": {
      "needs_background": "light"
     },
     "output_type": "display_data"
    },
    {
     "data": {
      "text/plain": [
       "(None, None)"
      ]
     },
     "execution_count": 5,
     "metadata": {},
     "output_type": "execute_result"
    }
   ],
   "source": [
    "random_v2(4)"
   ]
  },
  {
   "cell_type": "markdown",
   "id": "outside-symbol",
   "metadata": {
    "slideshow": {
     "slide_type": "slide"
    }
   },
   "source": [
    "## Asumsi Ketiga\n",
    "Nilai $p$ ada pada selang $(0,1)$ dan nilai $p$ tidak boleh 0 (semua array harus memiliki nilai)"
   ]
  },
  {
   "cell_type": "code",
   "execution_count": 6,
   "id": "stylish-commons",
   "metadata": {
    "slideshow": {
     "slide_type": "subslide"
    }
   },
   "outputs": [],
   "source": [
    "def random_v3(n,start = 0, rep = 1000):\n",
    "    \n",
    "    # Pembuatan Array\n",
    "    array = np.zeros(n)\n",
    "    p = 0\n",
    "    i = 0\n",
    "    while i+1 != n and (sum(array) != 1.0 or sum(array)+p == 1.0):\n",
    "        print('Masukkan nilai fungsi massa peluang ke -', str(i+1))\n",
    "        p = float(input())\n",
    "        \n",
    "        while p <= 0.0 or p >= 1.0:\n",
    "            print('Input Salah ! Peluang harus berada di interval (0,1)')\n",
    "            print('Masukkan nilai fungsi massa peluang ke -', str(i+1))\n",
    "            p = float(input())\n",
    "\n",
    "        while sum(array)+p == 1.0 and i < n: \n",
    "            print('Input Kurang ! Masih tersisa',str(n-i),'array yang perlu diisi. Rekomendasi nilai p yang dimasukkan <', \"{:.4f}\".format(1-sum(array)))\n",
    "            print('Masukkan nilai fungsi massa peluang ke -', str(i+1))\n",
    "            p = float(input())\n",
    "\n",
    "        while sum(array)+p >1.0:\n",
    "            print('Input Salah ! Rekomendasi nilai p yang dimasukkan <=', \"{:.4f}\".format(1-sum(array)))\n",
    "            print('Masukkan nilai fungsi massa peluang ke -', str(i+1))\n",
    "            p = float(input())\n",
    "        \n",
    "        while sum(array)+p == 1.0:\n",
    "            print('Input Kurang ! Masih tersisa',str(n-i),'array yang perlu diisi. Rekomendasi nilai p yang dimasukkan <', \"{:.4f}\".format(1-sum(array)))\n",
    "            print('Masukkan nilai fungsi massa peluang ke -', str(i+1))\n",
    "            p = float(input())\n",
    "            while p > (1-sum(array)):\n",
    "                p = float(input())\n",
    "            \n",
    "        array[i] = p\n",
    "        i += 1 \n",
    "        \n",
    "    array[-1] = 1-sum(array)\n",
    "    print('Nilai fungsi massa peluang ke -', str(i),'\\n', array[-1])\n",
    "    \n",
    "    # Membuat bilangan 0 - 100\n",
    "    S = np.arange(100)\n",
    "    \n",
    "    # Memilih bilangan Acak\n",
    "    X = np.random.choice(S, size = n)\n",
    "    \n",
    "    # Mengacak urutan bilangan acak \n",
    "    np.random.shuffle(X)\n",
    "    \n",
    "    \n",
    "    df = pd.DataFrame(data = {'Integer' : X,\n",
    "                              'Probability' : array,\n",
    "                              'Cummulative Probability': np.cumsum(array)\n",
    "        })\n",
    "    df['Integer'] = df['Integer'].astype(str)\n",
    "    frekuensi = np.zeros(n)\n",
    "    for j in range(rep):\n",
    "        x = np.random.rand()\n",
    "        temp = True\n",
    "        i = 0\n",
    "        while temp == True:\n",
    "            if x < df['Cummulative Probability'].iloc[i]:\n",
    "                temp = False            \n",
    "            elif i == n :\n",
    "                temp = False\n",
    "                return print('Tidak ada nilai yang benar')\n",
    "            else : \n",
    "                i+=1\n",
    "        frekuensi[i] += 1 \n",
    "    df['Frekuensi'] = frekuensi\n",
    "    plt.bar(x=df['Integer'],height=df['Frekuensi'])\n",
    "    plt.grid()\n",
    "    plt.xlabel('Integer')\n",
    "    plt.ylabel('Frekuensi')\n",
    "    return display(df),plt.show()"
   ]
  },
  {
   "cell_type": "code",
   "execution_count": 7,
   "id": "dependent-wallace",
   "metadata": {
    "slideshow": {
     "slide_type": "subslide"
    }
   },
   "outputs": [
    {
     "name": "stdout",
     "output_type": "stream",
     "text": [
      "Masukkan nilai fungsi massa peluang ke - 1\n",
      "0.2\n",
      "Masukkan nilai fungsi massa peluang ke - 2\n",
      "0.1\n",
      "Masukkan nilai fungsi massa peluang ke - 3\n",
      "0.6\n",
      "Masukkan nilai fungsi massa peluang ke - 4\n",
      "0.4\n",
      "Input Salah ! Rekomendasi nilai p yang dimasukkan <= 0.1000\n",
      "Masukkan nilai fungsi massa peluang ke - 4\n",
      "0.02\n",
      "Nilai fungsi massa peluang ke - 4 \n",
      " 0.07999999999999996\n"
     ]
    },
    {
     "data": {
      "text/html": [
       "<div>\n",
       "<style scoped>\n",
       "    .dataframe tbody tr th:only-of-type {\n",
       "        vertical-align: middle;\n",
       "    }\n",
       "\n",
       "    .dataframe tbody tr th {\n",
       "        vertical-align: top;\n",
       "    }\n",
       "\n",
       "    .dataframe thead th {\n",
       "        text-align: right;\n",
       "    }\n",
       "</style>\n",
       "<table border=\"1\" class=\"dataframe\">\n",
       "  <thead>\n",
       "    <tr style=\"text-align: right;\">\n",
       "      <th></th>\n",
       "      <th>Integer</th>\n",
       "      <th>Probability</th>\n",
       "      <th>Cummulative Probability</th>\n",
       "      <th>Frekuensi</th>\n",
       "    </tr>\n",
       "  </thead>\n",
       "  <tbody>\n",
       "    <tr>\n",
       "      <th>0</th>\n",
       "      <td>83</td>\n",
       "      <td>0.20</td>\n",
       "      <td>0.20</td>\n",
       "      <td>202.0</td>\n",
       "    </tr>\n",
       "    <tr>\n",
       "      <th>1</th>\n",
       "      <td>45</td>\n",
       "      <td>0.10</td>\n",
       "      <td>0.30</td>\n",
       "      <td>96.0</td>\n",
       "    </tr>\n",
       "    <tr>\n",
       "      <th>2</th>\n",
       "      <td>30</td>\n",
       "      <td>0.60</td>\n",
       "      <td>0.90</td>\n",
       "      <td>600.0</td>\n",
       "    </tr>\n",
       "    <tr>\n",
       "      <th>3</th>\n",
       "      <td>60</td>\n",
       "      <td>0.02</td>\n",
       "      <td>0.92</td>\n",
       "      <td>21.0</td>\n",
       "    </tr>\n",
       "    <tr>\n",
       "      <th>4</th>\n",
       "      <td>5</td>\n",
       "      <td>0.08</td>\n",
       "      <td>1.00</td>\n",
       "      <td>81.0</td>\n",
       "    </tr>\n",
       "  </tbody>\n",
       "</table>\n",
       "</div>"
      ],
      "text/plain": [
       "  Integer  Probability  Cummulative Probability  Frekuensi\n",
       "0      83         0.20                     0.20      202.0\n",
       "1      45         0.10                     0.30       96.0\n",
       "2      30         0.60                     0.90      600.0\n",
       "3      60         0.02                     0.92       21.0\n",
       "4       5         0.08                     1.00       81.0"
      ]
     },
     "metadata": {},
     "output_type": "display_data"
    },
    {
     "data": {
      "image/png": "[encoded data removed]",
      "text/plain": [
       "<Figure size 432x288 with 1 Axes>"
      ]
     },
     "metadata": {
      "needs_background": "light"
     },
     "output_type": "display_data"
    },
    {
     "data": {
      "text/plain": [
       "(None, None)"
      ]
     },
     "execution_count": 7,
     "metadata": {},
     "output_type": "execute_result"
    }
   ],
   "source": [
    "random_v3(5)"
   ]
  },
  {
   "cell_type": "markdown",
   "id": "physical-syndrome",
   "metadata": {
    "slideshow": {
     "slide_type": "slide"
    }
   },
   "source": [
    "# Lebih Lanjut\n",
    "Program masih memiliki beberapa kecacatan seperti tidak efisien dan juga dapat juga dikurangi nilai dari floating operationnya yang dapat mengurangi keoptimalan program"
   ]
  }
 ],
 "metadata": {
  "kernelspec": {
   "display_name": "Python 3",
   "language": "python",
   "name": "python3"
  },
  "language_info": {
   "codemirror_mode": {
    "name": "ipython",
    "version": 3
   },
   "file_extension": ".py",
   "mimetype": "text/x-python",
   "name": "python",
   "nbconvert_exporter": "python",
   "pygments_lexer": "ipython3",
   "version": "3.8.5"
  }
 },
 "nbformat": 4,
 "nbformat_minor": 5
}
